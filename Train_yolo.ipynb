{
  "nbformat": 4,
  "nbformat_minor": 0,
  "metadata": {
    "colab": {
      "provenance": [],
      "authorship_tag": "ABX9TyOG9YOZh5BhgsGuTlDi4N+3",
      "include_colab_link": true
    },
    "kernelspec": {
      "name": "python3",
      "display_name": "Python 3"
    },
    "language_info": {
      "name": "python"
    }
  },
  "cells": [
    {
      "cell_type": "markdown",
      "metadata": {
        "id": "view-in-github",
        "colab_type": "text"
      },
      "source": [
        "<a href=\"https://colab.research.google.com/github/datadrivenharshal/sample_folders/blob/main/Train_yolo.ipynb\" target=\"_parent\"><img src=\"https://colab.research.google.com/assets/colab-badge.svg\" alt=\"Open In Colab\"/></a>"
      ]
    },
    {
      "cell_type": "code",
      "execution_count": 1,
      "metadata": {
        "colab": {
          "base_uri": "https://localhost:8080/"
        },
        "id": "azbjLqbL7KxD",
        "outputId": "53711a7e-4a19-4046-9339-c4454435d897"
      },
      "outputs": [
        {
          "output_type": "stream",
          "name": "stdout",
          "text": [
            "Python\n"
          ]
        }
      ],
      "source": [
        "print(\"Python\")"
      ]
    },
    {
      "cell_type": "code",
      "source": [
        "import torch\n",
        "print(torch.version.cuda)\n",
        "print(torch.cuda.is_available())\n"
      ],
      "metadata": {
        "colab": {
          "base_uri": "https://localhost:8080/"
        },
        "id": "aKc74r6d7Vpo",
        "outputId": "890cabb7-b570-4f86-c3f9-161e86fa4058"
      },
      "execution_count": 3,
      "outputs": [
        {
          "output_type": "stream",
          "name": "stdout",
          "text": [
            "12.6\n",
            "True\n"
          ]
        }
      ]
    },
    {
      "source": [
        "!nvidia-smi"
      ],
      "cell_type": "code",
      "metadata": {
        "colab": {
          "base_uri": "https://localhost:8080/"
        },
        "id": "e9RzqQrKEr0m",
        "outputId": "5d8379a6-f595-43de-f4b3-cb6e93559c8d"
      },
      "execution_count": 5,
      "outputs": [
        {
          "output_type": "stream",
          "name": "stdout",
          "text": [
            "Fri Feb 21 11:24:57 2025       \n",
            "+-----------------------------------------------------------------------------------------+\n",
            "| NVIDIA-SMI 572.16                 Driver Version: 572.16         CUDA Version: 12.8     |\n",
            "|-----------------------------------------+------------------------+----------------------+\n",
            "| GPU  Name                  Driver-Model | Bus-Id          Disp.A | Volatile Uncorr. ECC |\n",
            "| Fan  Temp   Perf          Pwr:Usage/Cap |           Memory-Usage | GPU-Util  Compute M. |\n",
            "|                                         |                        |               MIG M. |\n",
            "|=========================================+========================+======================|\n",
            "|   0  NVIDIA GeForce RTX 3050 ...  WDDM  |   00000000:01:00.0 Off |                  N/A |\n",
            "| N/A   41C    P8              5W /   70W |     274MiB /   4096MiB |      0%      Default |\n",
            "|                                         |                        |                  N/A |\n",
            "+-----------------------------------------+------------------------+----------------------+\n",
            "                                                                                         \n",
            "+-----------------------------------------------------------------------------------------+\n",
            "| Processes:                                                                              |\n",
            "|  GPU   GI   CI              PID   Type   Process name                        GPU Memory |\n",
            "|        ID   ID                                                               Usage      |\n",
            "|=========================================================================================|\n",
            "|    0   N/A  N/A            2844    C+G   ..._cw5n1h2txyewy\\SearchHost.exe      N/A      |\n",
            "|    0   N/A  N/A            5428    C+G   ...5n1h2txyewy\\TextInputHost.exe      N/A      |\n",
            "|    0   N/A  N/A            7600    C+G   ...8bbwe\\PhoneExperienceHost.exe      N/A      |\n",
            "|    0   N/A  N/A           10204    C+G   ...yb3d8bbwe\\Notepad\\Notepad.exe      N/A      |\n",
            "|    0   N/A  N/A           10680    C+G   ...indows\\System32\\ShellHost.exe      N/A      |\n",
            "|    0   N/A  N/A           13220    C+G   ...y\\StartMenuExperienceHost.exe      N/A      |\n",
            "|    0   N/A  N/A           16160    C+G   ...4__cv1g1gvanyjgm\\WhatsApp.exe      N/A      |\n",
            "|    0   N/A  N/A           17012    C+G   ...yb3d8bbwe\\WindowsTerminal.exe      N/A      |\n",
            "|    0   N/A  N/A           17352    C+G   ....0.3065.69\\msedgewebview2.exe      N/A      |\n",
            "|    0   N/A  N/A           20252    C+G   ...64__v10z8vjag6ke6\\HP.myHP.exe      N/A      |\n",
            "+-----------------------------------------------------------------------------------------+\n"
          ]
        }
      ]
    },
    {
      "cell_type": "code",
      "source": [
        "import torch\n",
        "import torch.nn as nn\n",
        "\n",
        "# Check if GPU is available\n",
        "device = torch.device(\"cuda\" if torch.cuda.is_available() else \"cpu\")\n",
        "print(f\"Using device: {device}\")\n",
        "\n",
        "# Define a simple model\n",
        "class SimpleModel(nn.Module):\n",
        "    def __init__(self):\n",
        "        super(SimpleModel, self).__init__()\n",
        "        self.fc = nn.Linear(10, 5)  # Fully connected layer\n",
        "\n",
        "    def forward(self, x):\n",
        "        return self.fc(x)\n",
        "\n",
        "# Move model to GPU\n",
        "model = SimpleModel().to(device)\n",
        "\n",
        "# Convert model to TorchScript\n",
        "scripted_model = torch.jit.script(model)\n",
        "\n",
        "# Save the scripted model\n",
        "scripted_model.save(\"simple_model.pt\")\n",
        "\n",
        "# Load the scripted model\n",
        "loaded_model = torch.jit.load(\"simple_model.pt\").to(device)\n",
        "\n",
        "# Create a random input tensor and move it to GPU\n",
        "input_tensor = torch.randn(1, 10).to(device)\n",
        "\n",
        "# Run inference on GPU\n",
        "with torch.no_grad():\n",
        "    output = loaded_model(input_tensor)\n",
        "\n",
        "print(f\"Output from GPU: {output}\")\n"
      ],
      "metadata": {
        "colab": {
          "base_uri": "https://localhost:8080/"
        },
        "id": "Dvz5jBJPEuJh",
        "outputId": "498510bb-d79a-42fb-f45d-72bb52af851f"
      },
      "execution_count": 6,
      "outputs": [
        {
          "output_type": "stream",
          "name": "stdout",
          "text": [
            "Using device: cuda\n",
            "Output from GPU: tensor([[ 0.3227,  0.1704, -0.8351, -1.2060,  0.4433]], device='cuda:0')\n"
          ]
        }
      ]
    },
    {
      "cell_type": "code",
      "source": [
        "import torch\n",
        "print(torch.cuda.is_available())  # Should print True\n",
        "print(torch.cuda.get_device_name(0))  # Prints GPU name\n"
      ],
      "metadata": {
        "colab": {
          "base_uri": "https://localhost:8080/"
        },
        "id": "azOFBRqZFEx_",
        "outputId": "1ee6083e-1d8c-4e21-a949-16b1dc294f93"
      },
      "execution_count": 7,
      "outputs": [
        {
          "output_type": "stream",
          "name": "stdout",
          "text": [
            "True\n",
            "NVIDIA GeForce RTX 3050 Laptop GPU\n"
          ]
        }
      ]
    },
    {
      "cell_type": "code",
      "source": [],
      "metadata": {
        "id": "qcEHP73hGrzi"
      },
      "execution_count": null,
      "outputs": []
    }
  ]
}